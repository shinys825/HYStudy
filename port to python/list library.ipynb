{
 "cells": [
  {
   "cell_type": "markdown",
   "metadata": {},
   "source": [
    "# Port To Python (List Library)"
   ]
  },
  {
   "cell_type": "code",
   "execution_count": 1,
   "metadata": {
    "collapsed": true
   },
   "outputs": [],
   "source": [
    "class List():\n",
    "    def show(self):\n",
    "        return str(self)\n",
    "\n",
    "    \n",
    "class Nil(List):\n",
    "    def __init__(self):\n",
    "        self.head = None\n",
    "    \n",
    "    def __str__(self):\n",
    "        return \"Nil\"\n",
    "    \n",
    "    def __repr__(self):\n",
    "        return \"Nil\"\n",
    "    \n",
    "    \n",
    "class Cons(List):\n",
    "    def __init__(self, head, tail):\n",
    "        self.head = head\n",
    "        self.tail = tail\n",
    "    \n",
    "    def __str__(self):\n",
    "        return str(self.head) + \"::\" + str(self.tail) \n",
    "    \n",
    "    def __repr__(self):\n",
    "        return \"Cons(\" + str(self.head) + \", \" + repr(self.tail) +\")\"\n",
    "    \n",
    "    \n",
    "def list(*a):\n",
    "    if len(a) == 0 :\n",
    "        return Nil()\n",
    "    else:\n",
    "        return Cons(a[0], list(*a[1:]))"
   ]
  },
  {
   "cell_type": "code",
   "execution_count": null,
   "metadata": {
    "collapsed": true
   },
   "outputs": [],
   "source": []
  }
 ],
 "metadata": {
  "kernelspec": {
   "display_name": "Python 3",
   "language": "python",
   "name": "python3"
  },
  "language_info": {
   "codemirror_mode": {
    "name": "ipython",
    "version": 3
   },
   "file_extension": ".py",
   "mimetype": "text/x-python",
   "name": "python",
   "nbconvert_exporter": "python",
   "pygments_lexer": "ipython3",
   "version": "3.6.1"
  }
 },
 "nbformat": 4,
 "nbformat_minor": 2
}
