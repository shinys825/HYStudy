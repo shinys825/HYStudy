{
 "cells": [
  {
   "cell_type": "markdown",
   "metadata": {},
   "source": [
    "# Functional Data-Structure\n",
    "- Definition of Functional Data-Structure\n",
    "- Pattern matching"
   ]
  },
  {
   "cell_type": "markdown",
   "metadata": {},
   "source": [
    "## Definition of Functional Data-Structure\n",
    "오직 순수 함수만으로 조작되는 자료구조. 순수 함수는 자료를 그 자리에서 변경하거나 기타 side effect를 수행하는 일이 없어야 함. 따라서 함수적 자료구조는 정의에 의해 immutable함."
   ]
  },
  {
   "cell_type": "code",
   "execution_count": 1,
   "metadata": {},
   "outputs": [
    {
     "data": {
      "text/plain": [
       "defined \u001b[32mtrait\u001b[39m \u001b[36mList\u001b[39m\n",
       "defined \u001b[32mobject\u001b[39m \u001b[36mNil\u001b[39m\n",
       "defined \u001b[32mclass\u001b[39m \u001b[36mCons\u001b[39m\n",
       "defined \u001b[32mobject\u001b[39m \u001b[36mList\u001b[39m"
      ]
     },
     "execution_count": 1,
     "metadata": {},
     "output_type": "execute_result"
    }
   ],
   "source": [
    "/* \n",
    "    Data Type(자료형식)을 도입할 때는 trait(특질) 키워드를 사용 \n",
    "    trait는 일종의 추상 인터페이스, 필요하면 메서드도 구현할 수 있음.\n",
    "    sealed 키워드는 이 trait의 모든 구현이 반드시 이 파일 안에 정의되어 있어야함을 뜻함.\n",
    "*/\n",
    "\n",
    "// Singly linked list\n",
    "sealed trait List[+A]  // 형식 A에 대해 매개변수화된 List자료 형식, \n",
    "                       // A앞에 있는 '+'는 가변 지정자(variance annotaion). '+'가 붙으면 공변(covariant)\n",
    "                       // '+'가 붙어 있지 않으면 불변(invariant)\n",
    "case object Nil extends List[Nothing]  // 빈 리스트를 나타내는 List 자료 생성자\n",
    "case class Cons[+A](head: A, tail: List[A]) extends List[A] // 비지 않은 리스트를 나타내는 List 자료 생성자. tail은 또 다른 Cons or Nil\n",
    "\n",
    "// List의 Companion object (trait와 이름이 같은 객체)\n",
    "// List의 생성과 조작을 위한 함수들을 담는다.\n",
    "object List {\n",
    "    def sum(ints: List[Int]): Int = ints match {  // 패턴 매치를 이용해서 정수 List의 합을 구하는 함수\n",
    "        case Nil => 0  // 빈 리스트 Nil의 경우 0을 리턴\n",
    "        case Cons(x, xs) => x + sum(xs)  // head가 x인 리스트는 x 더하기 tail의 합\n",
    "    }\n",
    "    \n",
    "    def product(ds: List[Double]): Double = ds match {\n",
    "        case Nil => 1.0\n",
    "        case Cons(0.0, _) => 0.0\n",
    "        case Cons(x, xs) => x * product(xs)\n",
    "    }\n",
    "    \n",
    "    def apply[A](as: A*): List[A] =   // A* 는 가변 인수를 나타냄 타입이 A인 인수를 여러개 받음 ','로 구분\n",
    "        if(as.isEmpty) Nil\n",
    "        else Cons(as.head, apply(as.tail: _*))\n",
    "}"
   ]
  },
  {
   "cell_type": "code",
   "execution_count": 2,
   "metadata": {},
   "outputs": [
    {
     "data": {
      "text/plain": [
       "\u001b[36mres1\u001b[39m: \u001b[32mList\u001b[39m[\u001b[32mInt\u001b[39m] = Cons(1,Cons(2,Cons(3,Cons(4,Cons(5,Nil)))))"
      ]
     },
     "execution_count": 2,
     "metadata": {},
     "output_type": "execute_result"
    }
   ],
   "source": [
    "List(1,2,3,4,5)"
   ]
  },
  {
   "cell_type": "code",
   "execution_count": 3,
   "metadata": {},
   "outputs": [
    {
     "data": {
      "text/plain": [
       "\u001b[36mres2\u001b[39m: \u001b[32mInt\u001b[39m = \u001b[32m15\u001b[39m"
      ]
     },
     "execution_count": 3,
     "metadata": {},
     "output_type": "execute_result"
    }
   ],
   "source": [
    "List.sum(res1)"
   ]
  },
  {
   "cell_type": "code",
   "execution_count": 4,
   "metadata": {},
   "outputs": [
    {
     "data": {
      "text/plain": [
       "\u001b[36mex1\u001b[39m: \u001b[32mList\u001b[39m[\u001b[32mDouble\u001b[39m] = Nil\n",
       "\u001b[36mex2\u001b[39m: \u001b[32mList\u001b[39m[\u001b[32mInt\u001b[39m] = Cons(1,Nil)\n",
       "\u001b[36mex3\u001b[39m: \u001b[32mList\u001b[39m[\u001b[32mString\u001b[39m] = Cons(a,Cons(b,Nil))"
      ]
     },
     "execution_count": 4,
     "metadata": {},
     "output_type": "execute_result"
    }
   ],
   "source": [
    "val ex1: List[Double] = Nil\n",
    "val ex2: List[Int] = Cons(1, Nil)\n",
    "val ex3: List[String] = Cons(\"a\", Cons(\"b\", Nil))"
   ]
  },
  {
   "cell_type": "markdown",
   "metadata": {},
   "source": [
    "## Pattern Matching"
   ]
  },
  {
   "cell_type": "markdown",
   "metadata": {
    "collapsed": true
   },
   "source": [
    "target과 일치하는 패턴에 해당하는 결과를 리턴하는 구문. 위에 있는 패턴부터 검증, 여러 패턴과 일치하는 경우 위에서 부터 검증하기 때문에 최상위에 있는 패턴의 결과를 리턴함.\n",
    "```scala\n",
    "target match {\n",
    "    case pattern1 => result\n",
    "    case pattern2 => result\n",
    "    ...\n",
    "}\n",
    "```\n",
    "패턴은 `3`이나 `\"hi\"` 같은 리터럴과 `x`나 `xs`같이 소문자나 밑줄로 시작하는 식별자로 된 변수, 그리고 `Cons(x, xs)`나 `Nil`같은 자료 생성자로 구성됨. 변수는 모든 것에 부합하는 반면 자료 생성자는 해당 형태의 값에만 부합."
   ]
  },
  {
   "cell_type": "code",
   "execution_count": 5,
   "metadata": {},
   "outputs": [
    {
     "data": {
      "text/plain": [
       "\u001b[36mres4_0\u001b[39m: \u001b[32mInt\u001b[39m = \u001b[32m42\u001b[39m\n",
       "\u001b[36mres4_1\u001b[39m: \u001b[32mInt\u001b[39m = \u001b[32m1\u001b[39m\n",
       "\u001b[36mres4_2\u001b[39m: \u001b[32mList\u001b[39m[\u001b[32mInt\u001b[39m] = Cons(2,Cons(3,Nil))"
      ]
     },
     "execution_count": 5,
     "metadata": {},
     "output_type": "execute_result"
    }
   ],
   "source": [
    "// Pattern Matching Example\n",
    "List(1,2,3) match { case _ => 42 }\n",
    "List(1,2,3) match { case Cons(h, _) => h }\n",
    "List(1,2,3) match { case Cons(_, t) => t }\n",
    "// List(1,2,3) match { case Nil => 42}"
   ]
  },
  {
   "cell_type": "markdown",
   "metadata": {},
   "source": [
    "## 연습문제 3.1\n",
    "다음 패턴 부합 표현식의 결과는 무엇인가?\n",
    "```scala\n",
    "val x = List(1,2,3,4,5) match {\n",
    "  case Cons(x, Cons(2, Cons(4, _))) => x\n",
    "  case Nil => 42\n",
    "  case Cons(x, Cons(y, Cons(3, Cons(4, _)))) => x + y\n",
    "  case Cons(h,t) => h + sum(t)\n",
    "  case _ => 101\n",
    "}\n",
    "```"
   ]
  },
  {
   "cell_type": "markdown",
   "metadata": {},
   "source": [
    "## Data Sharing of Functional Data-Structure"
   ]
  },
  {
   "cell_type": "markdown",
   "metadata": {},
   "source": [
    "## 연습문제 3.2\n",
    "List의 첫 요소를 제거하는 함수 tail을 구현하라. 이 함수가 상수 시간으로 실행됨을 주의할 것. Nil인 List도 지원하도록 독자의 구현을 수정하는 여러 가지 방법들도 고려해 보라. 이에 대해서는 다음 장에서 좀 더 살펴볼 것이다."
   ]
  },
  {
   "cell_type": "code",
   "execution_count": 6,
   "metadata": {},
   "outputs": [
    {
     "data": {
      "text/plain": [
       "defined \u001b[32mfunction\u001b[39m \u001b[36mtail\u001b[39m"
      ]
     },
     "execution_count": 6,
     "metadata": {},
     "output_type": "execute_result"
    }
   ],
   "source": [
    "def tail[A](as: List[A]): List[A] = as match {\n",
    "    case Nil => throw new UnsupportedOperationException\n",
    "    case Cons(_, t) => t\n",
    "}"
   ]
  },
  {
   "cell_type": "code",
   "execution_count": 7,
   "metadata": {},
   "outputs": [
    {
     "data": {
      "text/plain": [
       "\u001b[36mres6\u001b[39m: \u001b[32mList\u001b[39m[\u001b[32mInt\u001b[39m] = Cons(2,Cons(3,Cons(4,Nil)))"
      ]
     },
     "execution_count": 7,
     "metadata": {},
     "output_type": "execute_result"
    }
   ],
   "source": [
    "tail(List(1,2,3,4))"
   ]
  },
  {
   "cell_type": "markdown",
   "metadata": {},
   "source": [
    "## 연습문제 3.3\n",
    "같은 맥락에서, List의 첫 요소를 다른 값으로 대체하는 함수 setHead를 구현하라."
   ]
  },
  {
   "cell_type": "code",
   "execution_count": 8,
   "metadata": {},
   "outputs": [
    {
     "data": {
      "text/plain": [
       "defined \u001b[32mfunction\u001b[39m \u001b[36msetHead\u001b[39m"
      ]
     },
     "execution_count": 8,
     "metadata": {},
     "output_type": "execute_result"
    }
   ],
   "source": [
    "def setHead[A](l: List[A], x: A): List[A] = l match {\n",
    "  case Nil => throw new UnsupportedOperationException\n",
    "  case Cons(h, t) => Cons(x, t)\n",
    "}"
   ]
  },
  {
   "cell_type": "code",
   "execution_count": 9,
   "metadata": {},
   "outputs": [
    {
     "data": {
      "text/plain": [
       "\u001b[36mres8\u001b[39m: \u001b[32mList\u001b[39m[\u001b[32mInt\u001b[39m] = Cons(8,Cons(2,Cons(3,Nil)))"
      ]
     },
     "execution_count": 9,
     "metadata": {},
     "output_type": "execute_result"
    }
   ],
   "source": [
    "setHead(List(1,2,3), 8)"
   ]
  },
  {
   "cell_type": "markdown",
   "metadata": {},
   "source": [
    "## 연습문제 3.4\n",
    "tail을 일반화해서, 목록에서 처음 n개의 요소를 제거하는 함수 drop을 구현하라. 이 함수의 실행 시간은 제거되는 원소의 개수에만 비례함을 주의할 것. List 전체의 복사본을 만들 필요는 없다.\n",
    "```scala\n",
    "def drop[A](l: List[A], n: Int): List[A]\n",
    "```"
   ]
  },
  {
   "cell_type": "code",
   "execution_count": 10,
   "metadata": {},
   "outputs": [
    {
     "data": {
      "text/plain": [
       "defined \u001b[32mfunction\u001b[39m \u001b[36mdrop\u001b[39m"
      ]
     },
     "execution_count": 10,
     "metadata": {},
     "output_type": "execute_result"
    }
   ],
   "source": [
    "def drop[A](l: List[A], n: Int): List[A] = {\n",
    "  def loop[A](as: List[A], n: Int): List[A] = \n",
    "    if(n>0) loop(tail(as), n-1)\n",
    "    else as\n",
    "  loop(l, n)\n",
    "}"
   ]
  },
  {
   "cell_type": "code",
   "execution_count": 11,
   "metadata": {},
   "outputs": [
    {
     "data": {
      "text/plain": [
       "\u001b[36mres10\u001b[39m: \u001b[32mList\u001b[39m[\u001b[32mInt\u001b[39m] = Cons(3,Cons(4,Cons(5,Nil)))"
      ]
     },
     "execution_count": 11,
     "metadata": {},
     "output_type": "execute_result"
    }
   ],
   "source": [
    "drop(List(1,2,3,4,5), 2)"
   ]
  },
  {
   "cell_type": "markdown",
   "metadata": {},
   "source": [
    "## 연습문제 3.5\n",
    "주어진 조건과 부합하는 List의 앞 요소들(prefix)을 제거하는 함수 dropWhile을 구현하라.\n",
    "```scala\n",
    "def dropWhile[A](l: List[A], f: A => Boolean): List[A]\n",
    "```"
   ]
  },
  {
   "cell_type": "code",
   "execution_count": 12,
   "metadata": {},
   "outputs": [
    {
     "data": {
      "text/plain": [
       "defined \u001b[32mfunction\u001b[39m \u001b[36mdropWhile\u001b[39m"
      ]
     },
     "execution_count": 12,
     "metadata": {},
     "output_type": "execute_result"
    }
   ],
   "source": [
    "def dropWhile[A](l: List[A], f: A => Boolean): List[A] = l match {\n",
    "  case Nil => Nil\n",
    "  case Cons(h, t) if(f(h)) => dropWhile(t, f)\n",
    "  case _ => l\n",
    "}"
   ]
  },
  {
   "cell_type": "code",
   "execution_count": 13,
   "metadata": {},
   "outputs": [
    {
     "data": {
      "text/plain": [
       "\u001b[36mres12\u001b[39m: \u001b[32mList\u001b[39m[\u001b[32mInt\u001b[39m] = Cons(1,Cons(2,Cons(3,Cons(4,Cons(5,Nil)))))"
      ]
     },
     "execution_count": 13,
     "metadata": {},
     "output_type": "execute_result"
    }
   ],
   "source": [
    "dropWhile(List(1,2,3,4,5), ((x: Int) => x % 2 == 0))"
   ]
  },
  {
   "cell_type": "markdown",
   "metadata": {},
   "source": [
    "## 연습문제 3.6\n",
    "한 List의 마지막 요소를 제외한 모든 요소로 이루어진 List를 돌려주는 함수 init을 구현하라. 예를 들어 List(1,2,3,4)에 대해 init은 List(1,2,3)을 돌려주어야 한다. 이 함수를 tail처럼 상수 시간으로 구현할 수 없는 이유는 무엇일까?\n",
    "```scala\n",
    "def init[A](l: List[A]): List[A]\n",
    "```"
   ]
  },
  {
   "cell_type": "code",
   "execution_count": 14,
   "metadata": {},
   "outputs": [
    {
     "data": {
      "text/plain": [
       "defined \u001b[32mfunction\u001b[39m \u001b[36minit\u001b[39m"
      ]
     },
     "execution_count": 14,
     "metadata": {},
     "output_type": "execute_result"
    }
   ],
   "source": [
    "def init[A](l: List[A]): List[A] = l match {\n",
    "  case Cons(_, Nil) => Nil\n",
    "  case Cons(h, t) => Cons(h, init(t))\n",
    "}\n",
    "\n",
    "// 리스트의 첫 원소인 head는 바로 접근이 가능하지만\n",
    "// tail은 앞에서 부터 차례대로 접근해야하기 때문에 리스트의 길이만큼의 시간이 걸림"
   ]
  },
  {
   "cell_type": "code",
   "execution_count": 15,
   "metadata": {},
   "outputs": [
    {
     "data": {
      "text/plain": [
       "\u001b[36mres14\u001b[39m: \u001b[32mList\u001b[39m[\u001b[32mInt\u001b[39m] = Cons(1,Cons(2,Cons(3,Nil)))"
      ]
     },
     "execution_count": 15,
     "metadata": {},
     "output_type": "execute_result"
    }
   ],
   "source": [
    "init(List(1,2,3,4))"
   ]
  },
  {
   "cell_type": "markdown",
   "metadata": {
    "collapsed": true
   },
   "source": [
    "---\n",
    "# 2017-09-15 [29th]"
   ]
  },
  {
   "cell_type": "markdown",
   "metadata": {},
   "source": [
    "## 고차 함수로의 일반화\n",
    "\n",
    "```scala\n",
    "def sum(ints: List[Int]): Int = ints match {  \n",
    "    case Nil => 0  // 빈 리스트 Nil의 경우 0을 리턴\n",
    "    case Cons(x, xs) => x + sum(xs)  // head가 x인 리스트는 x 더하기 tail의 합\n",
    "}\n",
    "\n",
    "def product(ds: List[Double]): Double = ds match {\n",
    "    case Nil => 1.0 // 빈 리스트 Nil의 경우 1.0을 리턴\n",
    "    case Cons(x, xs) => x * product(xs) // head가 x인 리스트는 x 곱하기 tail의 곱\n",
    "}\n",
    "```\n",
    "위와 같이 리스트를 다루는 함수는 비슷한 형태를 취하고 있음 이를 기반으로 함수를 일반화함"
   ]
  },
  {
   "cell_type": "code",
   "execution_count": 16,
   "metadata": {},
   "outputs": [
    {
     "data": {
      "text/plain": [
       "defined \u001b[32mfunction\u001b[39m \u001b[36mfoldRight\u001b[39m\n",
       "defined \u001b[32mfunction\u001b[39m \u001b[36msum2\u001b[39m\n",
       "defined \u001b[32mfunction\u001b[39m \u001b[36mproduct2\u001b[39m"
      ]
     },
     "execution_count": 16,
     "metadata": {},
     "output_type": "execute_result"
    }
   ],
   "source": [
    "// 재귀 호출 형태의 함수들을 일반화한 foldRight 함수\n",
    "def foldRight[A,B](as: List[A], z: B)(f: (A, B) => B): B = as match {\n",
    "    case Nil => z\n",
    "    case Cons(x, xs) => f(x, foldRight(xs, z)(f))\n",
    "}\n",
    "\n",
    "// foldRight를 활용해서 재구현한 sum 함수와 product 함수\n",
    "def sum2(ns: List[Int]): Int =\n",
    "    foldRight(ns, 0)((x, y) => x + y)\n",
    "\n",
    "def product2(ns: List[Double]): Double =\n",
    "    foldRight(ns, 1.0)(_ * _)"
   ]
  },
  {
   "cell_type": "code",
   "execution_count": 17,
   "metadata": {},
   "outputs": [
    {
     "data": {
      "text/plain": [
       "\u001b[36mintList\u001b[39m: \u001b[32mList\u001b[39m[\u001b[32mInt\u001b[39m] = Cons(1,Cons(2,Cons(3,Nil)))\n",
       "\u001b[36mres16_1\u001b[39m: \u001b[32mInt\u001b[39m = \u001b[32m6\u001b[39m"
      ]
     },
     "execution_count": 17,
     "metadata": {},
     "output_type": "execute_result"
    }
   ],
   "source": [
    "val intList = List(1,2,3)\n",
    "sum2(intList)"
   ]
  },
  {
   "cell_type": "markdown",
   "metadata": {},
   "source": [
    "위 sum2의 호출 구조를 트레이스 해보면 다음과 같음\n",
    "```\n",
    "foldRight(Cons(1, Cons(2, Cons(3, Nil))), 0)((x,y) => x + y)\n",
    "1 + foldRight(Cons(2, Cons(3, Nil)), 0)((x,y) => x + y)\n",
    "1 + (2 + foldRight(Cons(3, Nil), 0)((x,y) => x + y))\n",
    "1 + (2 + (3 + (foldRight(Nil, 0)((x,y) => x + y))))\n",
    "1 + (2 + (3 + (0)))\n",
    "6\n",
    "```"
   ]
  },
  {
   "cell_type": "markdown",
   "metadata": {},
   "source": [
    "## 연습문제 3.7\n",
    "foldRight로 구현된 product2가 0.0을 만났을 때 즉시 재귀를 멈추고 0.0을 돌려줄까? 왜 그럴까? 아니라면 왜 아닐까? foldRight를 긴 목록으로 호출했을 때 어떤 평가 단축이 어떤 식으로 일어나는지 고찰하라. 이는 다른 연습문제들보다 심오한 문제이며, 제5장에서 다시 살펴볼 것이다."
   ]
  },
  {
   "cell_type": "markdown",
   "metadata": {},
   "source": [
    "## 연습문제 3.8\n",
    "`foldRight(List(1,2,3), Nil: List[Int])(Cons(_,_))`처럼 Nil과 Cons 자체를 foldRight에 전달하면 어떤 일이 발생할까? 이로부터, foldRight와 List의 자료 생성자들 사이의 관계에 관해 어떤 점을 알 수 있는가?\n"
   ]
  },
  {
   "cell_type": "markdown",
   "metadata": {},
   "source": [
    "## 연습문제 3.9\n",
    "foldRight를 이용해서 목록의 길이를 계산하라.\n",
    "```scala\n",
    "def length[A](as: List[A]): Int\n",
    "```"
   ]
  },
  {
   "cell_type": "code",
   "execution_count": 18,
   "metadata": {},
   "outputs": [
    {
     "data": {
      "text/plain": [
       "defined \u001b[32mfunction\u001b[39m \u001b[36mlength\u001b[39m"
      ]
     },
     "execution_count": 18,
     "metadata": {},
     "output_type": "execute_result"
    }
   ],
   "source": [
    "def length[A](as: List[A]): Int = \n",
    "    foldRight(as, 0)((_, x) => x + 1)"
   ]
  },
  {
   "cell_type": "code",
   "execution_count": 19,
   "metadata": {},
   "outputs": [
    {
     "data": {
      "text/plain": [
       "\u001b[36mres18\u001b[39m: \u001b[32mInt\u001b[39m = \u001b[32m5\u001b[39m"
      ]
     },
     "execution_count": 19,
     "metadata": {},
     "output_type": "execute_result"
    }
   ],
   "source": [
    "length(List(1,2,3,4,5))"
   ]
  },
  {
   "cell_type": "markdown",
   "metadata": {},
   "source": [
    "---\n",
    "# 2017-09-24 [30th]"
   ]
  },
  {
   "cell_type": "markdown",
   "metadata": {},
   "source": [
    "## 연습문제 3.10\n",
    "이번 절의 foldRight 구현은 꼬리 재귀가 아니므로 긴 목록에 대해서는 StackOverflowError 오류가 발생한다(이를 \"스택에 안전[stack-safe]하지 않다\"라고 말한다). 실제로 그런지 실험해 보고, 꼬리 재귀적인 또 다른 일반적 목록 재귀 함수 foldLeft를 이전 장에서 논의한 기법들을 이용해서 작성하라. 서명은 다음과 같다.\n",
    "```scala\n",
    "def foldLeft[A,B](as: List[A], z: B)(f: (B, A) => B): B\n",
    "```"
   ]
  },
  {
   "cell_type": "code",
   "execution_count": 20,
   "metadata": {},
   "outputs": [
    {
     "data": {
      "text/plain": [
       "defined \u001b[32mfunction\u001b[39m \u001b[36mfoldLeft\u001b[39m"
      ]
     },
     "execution_count": 20,
     "metadata": {},
     "output_type": "execute_result"
    }
   ],
   "source": [
    "def foldLeft[A,B](as: List[A], z: B)(f: (B, A) => B): B = as match {\n",
    "    case Nil => z\n",
    "    case Cons(x, xs) => foldLeft(xs, f(z, x))(f)\n",
    "}"
   ]
  },
  {
   "cell_type": "markdown",
   "metadata": {},
   "source": [
    "## 연습문제 3.11\n",
    "sum, product와 목록의 길이를 계산하는 함수를 foldLeft를 이용해서 작성하라."
   ]
  },
  {
   "cell_type": "code",
   "execution_count": 21,
   "metadata": {},
   "outputs": [
    {
     "data": {
      "text/plain": [
       "defined \u001b[32mfunction\u001b[39m \u001b[36msumViaFL\u001b[39m\n",
       "defined \u001b[32mfunction\u001b[39m \u001b[36mprodViaFL\u001b[39m\n",
       "defined \u001b[32mfunction\u001b[39m \u001b[36mlengthViaFL\u001b[39m"
      ]
     },
     "execution_count": 21,
     "metadata": {},
     "output_type": "execute_result"
    }
   ],
   "source": [
    "def sumViaFL(as: List[Int]): Int = \n",
    "    foldLeft(as, 0)((x, a) => x + a)\n",
    "\n",
    "def prodViaFL(as: List[Double]): Double =\n",
    "    foldLeft(as, 1.0)((x, a) => x * a)\n",
    "\n",
    "def lengthViaFL[A](as: List[A]): Int =\n",
    "    foldLeft(as, 0)((x, _) => x + 1)"
   ]
  },
  {
   "cell_type": "markdown",
   "metadata": {},
   "source": [
    "## 연습문제 3.12\n",
    "목록의 역을 돌려주는(이를테면 List(1,2,3)에 대해 List(3,2,1)을 돌려주는) 함수를 작성하라. 접기(fold) 함수를 이용해서 작성할 수 있는지 시도해 볼 것."
   ]
  },
  {
   "cell_type": "code",
   "execution_count": 22,
   "metadata": {},
   "outputs": [
    {
     "data": {
      "text/plain": [
       "defined \u001b[32mfunction\u001b[39m \u001b[36mreverse\u001b[39m"
      ]
     },
     "execution_count": 22,
     "metadata": {},
     "output_type": "execute_result"
    }
   ],
   "source": [
    "def reverse[A](as: List[A]): List[A] =\n",
    "    foldLeft(as, Nil: List[A])((z, x) => Cons(x, z))"
   ]
  },
  {
   "cell_type": "markdown",
   "metadata": {},
   "source": [
    "## 연습문제 3.13 (Hard)\n",
    "foldLeft를 foldRight를 이용해서 구현할 수 있을까? 그 반대 방향은 어떨까? foldLeft를 이용하면 foldRight를 꼬리 재귀적으로 구현할 수 있으므로 긴 목록에 대해서도 스택이 넘치지 않는다는 장점이 생긴다."
   ]
  },
  {
   "cell_type": "code",
   "execution_count": 23,
   "metadata": {},
   "outputs": [
    {
     "data": {
      "text/plain": [
       "defined \u001b[32mfunction\u001b[39m \u001b[36mfoldLeft2\u001b[39m\n",
       "defined \u001b[32mfunction\u001b[39m \u001b[36mfoldRight2\u001b[39m"
      ]
     },
     "execution_count": 23,
     "metadata": {},
     "output_type": "execute_result"
    }
   ],
   "source": [
    "def foldLeft2[A,B](as: List[A], z: B)(f: (B, A) => B): B =\n",
    "  foldRight(as, (b:B) => b)((a, g) => b => g(f(b,a)))(z)\n",
    "\n",
    "def foldRight2[A,B](as: List[A], z:B)(f: (A, B) => B): B =\n",
    "  foldLeft(as, (b:B) => b)((g, a) => b => g(f(a,b)))(z)"
   ]
  },
  {
   "cell_type": "markdown",
   "metadata": {},
   "source": [
    "## 연습문제 3.14\n",
    "append(한 List 뒤에 다른 List를 붙이는 것)를 foldLeft나 foldRight를 이용해서 구현하라."
   ]
  },
  {
   "cell_type": "code",
   "execution_count": 24,
   "metadata": {},
   "outputs": [
    {
     "data": {
      "text/plain": [
       "defined \u001b[32mfunction\u001b[39m \u001b[36mappend\u001b[39m"
      ]
     },
     "execution_count": 24,
     "metadata": {},
     "output_type": "execute_result"
    }
   ],
   "source": [
    "def append[A](a1: List[A], a2: List[A]): List[A] =\n",
    "    foldRight(a1, a2)(Cons(_, _))"
   ]
  },
  {
   "cell_type": "markdown",
   "metadata": {},
   "source": [
    "## 연습문제 3.15 (Hard)\n",
    "목록들의 목록을 하나의 목록으로 연결하는 함수를 작성하라. 실행 시간은 반드시 모든 목록의 전체 길이에 선형으로 비례해야한다. 이미 정의한 함수들을 활용하도록 노력할 것.\n",
    "```scala\n",
    "def concat[A](aa: List[List[A]]): List[A]\n",
    "```"
   ]
  },
  {
   "cell_type": "code",
   "execution_count": 25,
   "metadata": {
    "scrolled": true
   },
   "outputs": [
    {
     "data": {
      "text/plain": [
       "defined \u001b[32mfunction\u001b[39m \u001b[36mconcat\u001b[39m"
      ]
     },
     "execution_count": 25,
     "metadata": {},
     "output_type": "execute_result"
    }
   ],
   "source": [
    "def concat[A](aa: List[List[A]]): List[A] = \n",
    "    foldRight(aa, Nil: List[A])(append(_, _))"
   ]
  },
  {
   "cell_type": "code",
   "execution_count": 25,
   "metadata": {},
   "outputs": [
    {
     "ename": "",
     "evalue": "",
     "output_type": "error",
     "traceback": [
      "SyntaxError: found \")\", expected Semis | End | BacktickId | PlainId | WL ~ \".\" ~/ Id | WL ~ TypeArgs | NotNewline ~ ArgList at index 42",
      "t[A])(List(1,2,3,4)))",
      "                    ^"
     ]
    }
   ],
   "source": [
    "foldRight(aa, Nil: List[A])(List(1,2,3,4)))"
   ]
  },
  {
   "cell_type": "markdown",
   "metadata": {},
   "source": [
    "## 연습문제 3.16\n",
    "정수 목록의 각 요소에 1을 더해서 목록을 변환하는 함수를 작성하라. (주의 새 List를 돌려주는 순수 함수이어야 한다.)\n",
    "```scala\n",
    "def inc(ai: List[Int]): List[Int]\n",
    "```"
   ]
  },
  {
   "cell_type": "code",
   "execution_count": 26,
   "metadata": {},
   "outputs": [
    {
     "data": {
      "text/plain": [
       "defined \u001b[32mfunction\u001b[39m \u001b[36minc\u001b[39m"
      ]
     },
     "execution_count": 26,
     "metadata": {},
     "output_type": "execute_result"
    }
   ],
   "source": [
    "def inc(ai: List[Int]): List[Int] =\n",
    "    foldRight(ai, Nil: List[Int])((x, z) => Cons(x + 1 , z))"
   ]
  },
  {
   "cell_type": "code",
   "execution_count": 27,
   "metadata": {},
   "outputs": [
    {
     "data": {
      "text/plain": [
       "\u001b[36mres26\u001b[39m: \u001b[32mList\u001b[39m[\u001b[32mInt\u001b[39m] = Cons(2,Cons(3,Cons(4,Nil)))"
      ]
     },
     "execution_count": 27,
     "metadata": {},
     "output_type": "execute_result"
    }
   ],
   "source": [
    "inc(List(1,2,3))"
   ]
  },
  {
   "cell_type": "markdown",
   "metadata": {},
   "source": [
    "---\n",
    "# 2017-09-30 [31th]"
   ]
  },
  {
   "cell_type": "markdown",
   "metadata": {},
   "source": [
    "## 연습문제 3.16 + \n",
    "정수 목록의 각 요소에 정수 n을 더해서 목록을 변환하는 함수를 작성하라. (주의 새 List를 돌려주는 순수 함수이어야 한다.)"
   ]
  },
  {
   "cell_type": "code",
   "execution_count": 28,
   "metadata": {},
   "outputs": [
    {
     "data": {
      "text/plain": [
       "defined \u001b[32mfunction\u001b[39m \u001b[36mincN\u001b[39m"
      ]
     },
     "execution_count": 28,
     "metadata": {},
     "output_type": "execute_result"
    }
   ],
   "source": [
    "def incN(ai: List[Int], n: Int): List[Int] =\n",
    "    foldRight(ai, Nil: List[Int])((x, z) => Cons(x + n , z))"
   ]
  },
  {
   "cell_type": "code",
   "execution_count": 29,
   "metadata": {},
   "outputs": [
    {
     "data": {
      "text/plain": [
       "\u001b[36mres28\u001b[39m: \u001b[32mList\u001b[39m[\u001b[32mInt\u001b[39m] = Cons(4,Cons(5,Cons(6,Nil)))"
      ]
     },
     "execution_count": 29,
     "metadata": {},
     "output_type": "execute_result"
    }
   ],
   "source": [
    "incN(List(1,2,3), 3)"
   ]
  },
  {
   "cell_type": "markdown",
   "metadata": {},
   "source": [
    "## 연습문제 3.17\n",
    "List[Double]의 각 값을 String으로 변환하는 함수를 작성하라. d: Double을 String으로 변환할 때에는 d.toString이라는 표현식을 사용하면 된다.\n",
    "```scala\n",
    "def doubleToString(ds: List[Double]): List[String]\n",
    "```"
   ]
  },
  {
   "cell_type": "code",
   "execution_count": 30,
   "metadata": {},
   "outputs": [
    {
     "data": {
      "text/plain": [
       "defined \u001b[32mfunction\u001b[39m \u001b[36mdoubleToString\u001b[39m"
      ]
     },
     "execution_count": 30,
     "metadata": {},
     "output_type": "execute_result"
    }
   ],
   "source": [
    "def doubleToString(ds: List[Double]): List[String] =\n",
    "    foldRight(ds, Nil: List[String])((h, t) => Cons(h.toString, t))"
   ]
  },
  {
   "cell_type": "code",
   "execution_count": 31,
   "metadata": {},
   "outputs": [
    {
     "data": {
      "text/plain": [
       "\u001b[36mres30\u001b[39m: \u001b[32mList\u001b[39m[\u001b[32mString\u001b[39m] = Cons(1.2,Cons(3.4,Nil))"
      ]
     },
     "execution_count": 31,
     "metadata": {},
     "output_type": "execute_result"
    }
   ],
   "source": [
    "doubleToString(List(1.2, 3.4))"
   ]
  },
  {
   "cell_type": "markdown",
   "metadata": {},
   "source": [
    "## 연습문제 3.18\n",
    "List의 구조를 유지하면서 List의 각 요소를 수정하는 작업을 일반화한 함수 map을 작성하라. 서명은 다음과 같다.\n",
    "```scala\n",
    "def map[A,B](as: List[A])(f: A => B): List[B]\n",
    "```"
   ]
  },
  {
   "cell_type": "code",
   "execution_count": 32,
   "metadata": {},
   "outputs": [
    {
     "data": {
      "text/plain": [
       "defined \u001b[32mfunction\u001b[39m \u001b[36mmap\u001b[39m"
      ]
     },
     "execution_count": 32,
     "metadata": {},
     "output_type": "execute_result"
    }
   ],
   "source": [
    "// def foldRight[A,B](as: List[A], z: B)(f: (A, B) => B): B\n",
    "// def inc(as: List[Int]): List[Int] =\n",
    "//     foldRight(as, Nil: List[Int])((h, t) => Cons(h + 1 , t))\n",
    "\n",
    "// def doubleToString(as: List[Double]): List[String] =\n",
    "//     foldRight(as, Nil: List[String])((h, t) => Cons(h.toString, t))\n",
    "\n",
    "def map[A,B](as: List[A])(f: A => B): List[B] =\n",
    "    foldRight(as, Nil: List[B])((h, t) => Cons(f(h), t))"
   ]
  },
  {
   "cell_type": "markdown",
   "metadata": {},
   "source": [
    "## 연습문제 3.19\n",
    "List에서 주어진 술어를 만족하지 않는 요소들을 제거하는 함수 filter를 작성하라. 그리고 그 함수를 이용해서 List[Int]에서 모든 홀수를 제거하라.\n",
    "```scala\n",
    "def filter[A](as: List[A])(f: A => Boolean): List[A]\n",
    "```"
   ]
  },
  {
   "cell_type": "code",
   "execution_count": 33,
   "metadata": {},
   "outputs": [
    {
     "data": {
      "text/plain": [
       "defined \u001b[32mfunction\u001b[39m \u001b[36mfilter\u001b[39m"
      ]
     },
     "execution_count": 33,
     "metadata": {},
     "output_type": "execute_result"
    }
   ],
   "source": [
    "def filter[A](as: List[A])(f: A => Boolean): List[A] =\n",
    "    foldRight(as, Nil: List[A])((h, t) => if(f(h)) Cons(h, t) else t)"
   ]
  },
  {
   "cell_type": "code",
   "execution_count": 34,
   "metadata": {},
   "outputs": [
    {
     "data": {
      "text/plain": [
       "\u001b[36mres33\u001b[39m: \u001b[32mList\u001b[39m[\u001b[32mInt\u001b[39m] = Cons(2,Cons(4,Nil))"
      ]
     },
     "execution_count": 34,
     "metadata": {},
     "output_type": "execute_result"
    }
   ],
   "source": [
    "filter(List(1,2,3,4))(x => x % 2 == 0)"
   ]
  },
  {
   "cell_type": "markdown",
   "metadata": {},
   "source": [
    "## 연습문제 3.20\n",
    "map과 비슷하되 하나의 요소가 아니라 List를 최종 결과 List에 삽입하는 함수 flatMap을 작성하라. 서명은 다음과 같다.\n",
    "```scala\n",
    "def flatMap[A,B](as: List[A])(f: A => List[B]): List[B]\n",
    "```\n",
    "예를 들어 flatMap(List(1,2,3))(i => List(i,i))는 List(1,1,2,2,3,3)이 되어야 한다."
   ]
  },
  {
   "cell_type": "code",
   "execution_count": 35,
   "metadata": {},
   "outputs": [
    {
     "data": {
      "text/plain": [
       "defined \u001b[32mfunction\u001b[39m \u001b[36mflatMap\u001b[39m\n",
       "defined \u001b[32mfunction\u001b[39m \u001b[36mflatMap_\u001b[39m"
      ]
     },
     "execution_count": 35,
     "metadata": {},
     "output_type": "execute_result"
    }
   ],
   "source": [
    "def flatMap[A,B](as: List[A])(f: A => List[B]): List[B] =\n",
    "    foldRight(as, Nil: List[B])((h, t) => append(f(h), t))\n",
    "\n",
    "def flatMap_[A,B](as: List[A])(f: A => List[B]): List[B] =\n",
    "    concat(map(as)(f))"
   ]
  },
  {
   "cell_type": "code",
   "execution_count": 36,
   "metadata": {},
   "outputs": [
    {
     "data": {
      "text/plain": [
       "\u001b[36mres35\u001b[39m: \u001b[32mList\u001b[39m[\u001b[32mList\u001b[39m[\u001b[32mInt\u001b[39m]] = Cons(Cons(1,Cons(1,Nil)),Cons(Cons(2,Cons(2,Nil)),Cons(Cons(3,Cons(3,Nil)),Nil)))"
      ]
     },
     "execution_count": 36,
     "metadata": {},
     "output_type": "execute_result"
    }
   ],
   "source": [
    "map(List(1,2,3))(i => List(i,i))"
   ]
  },
  {
   "cell_type": "markdown",
   "metadata": {},
   "source": [
    "## 연습문제 3.21\n",
    "flatMap을 이용해서 filter를 구현하라."
   ]
  },
  {
   "cell_type": "code",
   "execution_count": 37,
   "metadata": {},
   "outputs": [
    {
     "data": {
      "text/plain": [
       "defined \u001b[32mfunction\u001b[39m \u001b[36mfilter\u001b[39m"
      ]
     },
     "execution_count": 37,
     "metadata": {},
     "output_type": "execute_result"
    }
   ],
   "source": [
    "def filter[A](as: List[A])(f: A => Boolean): List[A] =\n",
    "    flatMap(as)(a => if(f(a)) Cons(a, Nil) else Nil)"
   ]
  },
  {
   "cell_type": "code",
   "execution_count": 38,
   "metadata": {},
   "outputs": [
    {
     "data": {
      "text/plain": [
       "\u001b[36mres37\u001b[39m: \u001b[32mList\u001b[39m[\u001b[32mInt\u001b[39m] = Cons(2,Cons(4,Nil))"
      ]
     },
     "execution_count": 38,
     "metadata": {},
     "output_type": "execute_result"
    }
   ],
   "source": [
    "filter(List(1,2,3,4))(x => x % 2 == 0)"
   ]
  },
  {
   "cell_type": "code",
   "execution_count": null,
   "metadata": {
    "collapsed": true
   },
   "outputs": [],
   "source": []
  }
 ],
 "metadata": {
  "kernelspec": {
   "display_name": "Scala",
   "language": "scala",
   "name": "scala"
  },
  "language_info": {
   "codemirror_mode": "text/x-scala",
   "file_extension": ".scala",
   "mimetype": "text/x-scala",
   "name": "scala211",
   "nbconvert_exporter": "script",
   "pygments_lexer": "scala",
   "version": "2.11.11"
  }
 },
 "nbformat": 4,
 "nbformat_minor": 2
}
